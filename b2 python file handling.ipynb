{
 "cells": [
  {
   "cell_type": "code",
   "execution_count": 2,
   "id": "9f85060d",
   "metadata": {},
   "outputs": [
    {
     "name": "stdout",
     "output_type": "stream",
     "text": [
      "Nory was a Catholic because her mother was a Catholic and Nory’s mother was a Catholic because her father was a Catholic and her father was a Catholic because his mother was a Catholic or had been\n"
     ]
    }
   ],
   "source": [
    "from functools import reduce\n",
    "f=open(\"myfile.txt\", \"r\")\n",
    "a=f.read()\n",
    "print(a)"
   ]
  },
  {
   "cell_type": "code",
   "execution_count": 3,
   "id": "d53672ca",
   "metadata": {},
   "outputs": [
    {
     "name": "stdout",
     "output_type": "stream",
     "text": [
      "{'Nory': 1, 'was': 6, 'a': 6, 'Catholic': 6, 'because': 3, 'her': 3, 'mother': 3, 'and': 2, 'Nory’s': 1, 'father': 2, 'his': 1, 'or': 1, 'had': 1, 'been': 1}\n"
     ]
    }
   ],
   "source": [
    "a=a.split(\" \")\n",
    "d={}\n",
    "for i in a:\n",
    "    if i not in d:\n",
    "        d[i]=1\n",
    "    else:\n",
    "        d[i]+=1\n",
    "print(d)"
   ]
  },
  {
   "cell_type": "code",
   "execution_count": 5,
   "id": "e8a6e6f1",
   "metadata": {},
   "outputs": [
    {
     "name": "stdout",
     "output_type": "stream",
     "text": [
      "[('Nory', 1), ('was', 6), ('a', 6), ('Catholic', 6), ('because', 3), ('her', 3), ('mother', 3), ('and', 2), ('Nory’s', 1), ('father', 2), ('his', 1), ('or', 1), ('had', 1), ('been', 1)]\n"
     ]
    }
   ],
   "source": [
    "x=list(d.items())\n",
    "print(x)"
   ]
  },
  {
   "cell_type": "code",
   "execution_count": 6,
   "id": "e113f7cb",
   "metadata": {},
   "outputs": [
    {
     "data": {
      "text/plain": [
       "[('was', 6),\n",
       " ('a', 6),\n",
       " ('Catholic', 6),\n",
       " ('because', 3),\n",
       " ('her', 3),\n",
       " ('mother', 3),\n",
       " ('and', 2),\n",
       " ('father', 2),\n",
       " ('Nory', 1),\n",
       " ('Nory’s', 1),\n",
       " ('his', 1),\n",
       " ('or', 1),\n",
       " ('had', 1),\n",
       " ('been', 1)]"
      ]
     },
     "execution_count": 6,
     "metadata": {},
     "output_type": "execute_result"
    }
   ],
   "source": [
    "y=sorted(x,key=lambda b: b[1],reverse=True)\n",
    "y"
   ]
  },
  {
   "cell_type": "code",
   "execution_count": 10,
   "id": "c5fd7677",
   "metadata": {},
   "outputs": [
    {
     "name": "stdout",
     "output_type": "stream",
     "text": [
      "Top 10 words:\n",
      "1 \t- was\n",
      "2 \t- a\n",
      "3 \t- Catholic\n",
      "4 \t- because\n",
      "5 \t- her\n",
      "6 \t- mother\n",
      "7 \t- and\n",
      "8 \t- father\n",
      "9 \t- Nory\n",
      "10 \t- Nory’s\n"
     ]
    }
   ],
   "source": [
    "print(\"Top 10 words:\")\n",
    "for i in range(10):\n",
    "    print(i+1,\"\\t-\",y[i][0])"
   ]
  },
  {
   "cell_type": "code",
   "execution_count": 11,
   "id": "a3fe37f9",
   "metadata": {},
   "outputs": [
    {
     "data": {
      "text/plain": [
       "[4, 3, 1, 8, 7, 3, 6, 3, 6, 6, 3, 2, 3, 4]"
      ]
     },
     "execution_count": 11,
     "metadata": {},
     "output_type": "execute_result"
    }
   ],
   "source": [
    "p=[]\n",
    "for i in d:\n",
    "    p.append(len(i))\n",
    "p"
   ]
  },
  {
   "cell_type": "code",
   "execution_count": 14,
   "id": "ecdf59dd",
   "metadata": {},
   "outputs": [
    {
     "name": "stdout",
     "output_type": "stream",
     "text": [
      "Average length of words is 4.21\n"
     ]
    }
   ],
   "source": [
    "t=reduce(lambda x,y:x+y,p)\n",
    "t=t/len(p)\n",
    "print(\"Average length of words is %.2f\"%t)"
   ]
  },
  {
   "cell_type": "code",
   "execution_count": 15,
   "id": "548e5304",
   "metadata": {},
   "outputs": [
    {
     "data": {
      "text/plain": [
       "[9, 1, 49, 9, 9, 9, 9]"
      ]
     },
     "execution_count": 15,
     "metadata": {},
     "output_type": "execute_result"
    }
   ],
   "source": [
    "q=[i**2 for i in p if i%2!=0]\n",
    "q"
   ]
  }
 ],
 "metadata": {
  "kernelspec": {
   "display_name": "Python 3 (ipykernel)",
   "language": "python",
   "name": "python3"
  },
  "language_info": {
   "codemirror_mode": {
    "name": "ipython",
    "version": 3
   },
   "file_extension": ".py",
   "mimetype": "text/x-python",
   "name": "python",
   "nbconvert_exporter": "python",
   "pygments_lexer": "ipython3",
   "version": "3.9.12"
  }
 },
 "nbformat": 4,
 "nbformat_minor": 5
}
